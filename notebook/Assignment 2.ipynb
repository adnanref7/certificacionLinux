{
 "cells": [
  {
   "cell_type": "markdown",
   "metadata": {},
   "source": [
    "                                                                       9 de marzo, 2020\n",
    "Fernanda Lorena Martínez Moreno (46025)\n",
    "                        "
   ]
  },
  {
   "cell_type": "markdown",
   "metadata": {},
   "source": [
    "                                      ASSIGNMENT 2"
   ]
  },
  {
   "cell_type": "markdown",
   "metadata": {},
   "source": [
    "*21. Escribir un programa que determine si el año es bisiesto. Un año es bisiesto si es múltiplo de 4 (1988), excepto los múltiplos de 100 que no son bisiestos salvo que a su vez también sean múltiplos de 400 (1800no es bisiesto, 2000 sí).*"
   ]
  },
  {
   "cell_type": "code",
   "execution_count": 27,
   "metadata": {},
   "outputs": [
    {
     "name": "stdout",
     "output_type": "stream",
     "text": [
      "Introduzca un año bisiesto: 800\n",
      "800 es un año bisiesto.\n"
     ]
    }
   ],
   "source": [
    "year = int(input('Introduzca un año bisiesto: '))\n",
    "if year % 4 == 0 and ( not ( year % 100 == 0 ) or year % 400 == 0 ):\n",
    "    print(year, 'es un año bisiesto.')\n",
    "else:\n",
    "    print(year, 'no es un año bisiesto.')"
   ]
  },
  {
   "cell_type": "markdown",
   "metadata": {},
   "source": [
    "*22. Dado los valores de A, B, C que son los coeficientes de la ecuación de segundo grado, hallar sus raíces reales, desplegar los resultados.*"
   ]
  },
  {
   "cell_type": "code",
   "execution_count": 45,
   "metadata": {},
   "outputs": [
    {
     "name": "stdout",
     "output_type": "stream",
     "text": [
      "Introduzca el coeficiente \"A\" de la ecuación de segundo grado: 1\n",
      "Introduzca el coeficiente \"B\" de la ecuación de segundo grado: 2\n",
      "Introduzca el coeficiente \"C\" de la ecuación de segundo grado: 1\n",
      "1.0 x²+ 2.0 x+ 1.0 = -1.0\n"
     ]
    }
   ],
   "source": [
    "import math\n",
    "a = float(input('Introduzca el coeficiente \"A\" de la ecuación de segundo grado: '))\n",
    "b = float(input('Introduzca el coeficiente \"B\" de la ecuación de segundo grado: '))\n",
    "c = float(input('Introduzca el coeficiente \"C\" de la ecuación de segundo grado: '))\n",
    "ans = b ** 2 - (4 * a * c)\n",
    "if (ans >= 0):\n",
    "    n = math.sqrt(ans)\n",
    "else :\n",
    "    n = complex (0, math.sqrt(ans * -1) )\n",
    "respuesta1 = (-b + n)/ (2*a)\n",
    "respuesta2 = (-b - n)/ (2*a)\n",
    "print(a,'x²+',b,'x+',c, end=' '  )\n",
    "if respuesta1 == respuesta2 :\n",
    "    print ('=' ,respuesta1)\n",
    "else:\n",
    "    print ('=' ,respuesta1, ' y ', respuesta2)"
   ]
  },
  {
   "cell_type": "markdown",
   "metadata": {},
   "source": [
    "*23. Dado dos valores A y B, realizar el producto de los dos números por sumas sucesivas, almacenar el resultado en una variable P, mostrar el resultado.*"
   ]
  },
  {
   "cell_type": "code",
   "execution_count": 5,
   "metadata": {},
   "outputs": [
    {
     "name": "stdout",
     "output_type": "stream",
     "text": [
      "Introduzca el valor de un número \"A\": 4\n",
      "Introduzca el valor de un número \"B\": 3\n",
      "12\n"
     ]
    }
   ],
   "source": [
    "A = int(input('Introduzca el valor de un número \"A\": '))\n",
    "B = int(input('Introduzca el valor de un número \"B\": '))\n",
    "P=A\n",
    "cont=1\n",
    "while cont<B:\n",
    "    P= P+A\n",
    "    cont+=1\n",
    "print (P)"
   ]
  },
  {
   "cell_type": "markdown",
   "metadata": {},
   "source": [
    "*24. Dado un número X, determinar el número de dígitos del que esta compuesto y desplegar el resultado.*\n"
   ]
  },
  {
   "cell_type": "code",
   "execution_count": 8,
   "metadata": {},
   "outputs": [
    {
     "name": "stdout",
     "output_type": "stream",
     "text": [
      "Introduzca el valor de un número \"x\": 1234\n",
      "El número 1234 está compuesto por 4 dígitos\n"
     ]
    }
   ],
   "source": [
    "X = int(input('Introduzca el valor de un número \"x\": '))\n",
    "cont=1\n",
    "ctrl=10\n",
    "while ctrl < X:\n",
    "    cont = cont + 1\n",
    "    ctrl = ctrl * 10\n",
    "print ('El número', X, 'está compuesto por', cont, 'dígitos')"
   ]
  },
  {
   "cell_type": "markdown",
   "metadata": {},
   "source": [
    "*25. Escribir un programa que calcule y visualice el más grande, el más pequeño y la media de N números. El valor de N se solicitará al principio del programa y los números serán introducidos por el usuario.*"
   ]
  },
  {
   "cell_type": "code",
   "execution_count": 4,
   "metadata": {},
   "outputs": [
    {
     "name": "stdout",
     "output_type": "stream",
     "text": [
      "Introduzca el largo de la lista de números: 6\n",
      "Introduzca un número dentro de la lista1\n",
      "Introduzca un número dentro de la lista2\n",
      "Introduzca un número dentro de la lista3\n",
      "Introduzca un número dentro de la lista4\n",
      "Introduzca un número dentro de la lista5\n",
      "Introduzca un número dentro de la lista6\n",
      "El número más grande de la lista es 6 \n",
      "El número más pequeño de la lista es 1 \n",
      "La media de los 6 elementos, es 3.5\n"
     ]
    }
   ],
   "source": [
    "n= int(input('Introduzca el largo de la lista de números: '))\n",
    "cont = 0\n",
    "lista=[]\n",
    "while cont < n:\n",
    "    num=int(input('Introduzca un número dentro de la lista: '))\n",
    "    lista.append(num)\n",
    "    cont+=1\n",
    "med= sum(lista)/len(lista)\n",
    "print('El número más grande de la lista es',max(lista), '\\nEl número más pequeño de la lista es', min(lista),'\\nLa media de los', n, 'elementos, es', med)"
   ]
  },
  {
   "cell_type": "markdown",
   "metadata": {},
   "source": [
    "*26. Dado dos números A y B enteros mayores a cero, hallar A^B por sumas. Desplegar los\n",
    "números y el resultado.*"
   ]
  },
  {
   "cell_type": "code",
   "execution_count": 9,
   "metadata": {},
   "outputs": [
    {
     "name": "stdout",
     "output_type": "stream",
     "text": [
      "Introduzca un número entero mayor a cero: 5\n",
      "Introduzca otro número entero mayor a cero: 4\n",
      "625\n"
     ]
    }
   ],
   "source": [
    "A=int(input('Introduzca un número entero mayor a cero: '))\n",
    "B=int(input('Introduzca otro número entero mayor a cero: '))\n",
    "if a < 0 or b < 0:\n",
    "    print('Por favor, se le pidieron números mayores a cero.')\n",
    "else:\n",
    "    ans=A\n",
    "    cont=1\n",
    "    while cont<B:\n",
    "        ans = ans*A\n",
    "        cont+=1\n",
    "    print (ans)"
   ]
  },
  {
   "cell_type": "markdown",
   "metadata": {},
   "source": [
    "*27. La constante pi (3.1441592...) es muy utilizada en matemáticas. Un método sencillo de calcular su valor es:\n",
    "pi= 2*(2/1)*(2/3)*(4/3)*(4/5)*(6/5)*(6/7)*(8/7)*(8/9)...\n",
    "Escribir un programa que efectúe este cálculo con un número de términos especificando por el usuario."
   ]
  },
  {
   "cell_type": "code",
   "execution_count": 27,
   "metadata": {},
   "outputs": [
    {
     "name": "stdout",
     "output_type": "stream",
     "text": [
      "Introduzca un número de términos para calcular pi: 3\n",
      "π es 3.5555555555555554\n"
     ]
    }
   ],
   "source": [
    "cantidad=int(input('Introduzca un número de términos para calcular pi: '))\n",
    "pi=2\n",
    "x=2\n",
    "y=1\n",
    "for i in range(cantidad):\n",
    "    pi=pi*(x/y)\n",
    "    if i%2==0:\n",
    "        y+=2\n",
    "    else:\n",
    "        x+=2\n",
    "    i+1\n",
    "print('π es', pi)"
   ]
  },
  {
   "cell_type": "markdown",
   "metadata": {},
   "source": [
    "28. El valor de e^x se puede aproximar por la suma\n",
    "1+x+(x^2/2!)+(x^3/3!)(x^4/4!)+...+(x^n/n!)\n",
    "Escribir un programa que tome un valor de x como entrada y visualice la suma para\n",
    "cada uno de los valores de 1 a 100."
   ]
  },
  {
   "cell_type": "code",
   "execution_count": 40,
   "metadata": {},
   "outputs": [
    {
     "name": "stdout",
     "output_type": "stream",
     "text": [
      "Dele un valor a x: 100\n",
      "e = 1 + 100 +( 100 ^ 2 / 2 !)+( 100 ^ 3 / 3 !)+( 100 ^ 4 / 4 !)+( 100 ^ 5 / 5 !)+( 100 ^ 6 / 6 !)+( 100 ^ 7 / 7 !)+( 100 ^ 8 / 8 !)+( 100 ^ 9 / 9 !)+( 100 ^ 10 / 10 !)+( 100 ^ 11 / 11 !)+( 100 ^ 12 / 12 !)+( 100 ^ 13 / 13 !)+( 100 ^ 14 / 14 !)+( 100 ^ 15 / 15 !)+( 100 ^ 16 / 16 !)+( 100 ^ 17 / 17 !)+( 100 ^ 18 / 18 !)+( 100 ^ 19 / 19 !)+( 100 ^ 20 / 20 !)+( 100 ^ 21 / 21 !)+( 100 ^ 22 / 22 !)+( 100 ^ 23 / 23 !)+( 100 ^ 24 / 24 !)+( 100 ^ 25 / 25 !)+( 100 ^ 26 / 26 !)+( 100 ^ 27 / 27 !)+( 100 ^ 28 / 28 !)+( 100 ^ 29 / 29 !)+( 100 ^ 30 / 30 !)+( 100 ^ 31 / 31 !)+( 100 ^ 32 / 32 !)+( 100 ^ 33 / 33 !)+( 100 ^ 34 / 34 !)+( 100 ^ 35 / 35 !)+( 100 ^ 36 / 36 !)+( 100 ^ 37 / 37 !)+( 100 ^ 38 / 38 !)+( 100 ^ 39 / 39 !)+( 100 ^ 40 / 40 !)+( 100 ^ 41 / 41 !)+( 100 ^ 42 / 42 !)+( 100 ^ 43 / 43 !)+( 100 ^ 44 / 44 !)+( 100 ^ 45 / 45 !)+( 100 ^ 46 / 46 !)+( 100 ^ 47 / 47 !)+( 100 ^ 48 / 48 !)+( 100 ^ 49 / 49 !)+( 100 ^ 50 / 50 !)+( 100 ^ 51 / 51 !)+( 100 ^ 52 / 52 !)+( 100 ^ 53 / 53 !)+( 100 ^ 54 / 54 !)+( 100 ^ 55 / 55 !)+( 100 ^ 56 / 56 !)+( 100 ^ 57 / 57 !)+( 100 ^ 58 / 58 !)+( 100 ^ 59 / 59 !)+( 100 ^ 60 / 60 !)+( 100 ^ 61 / 61 !)+( 100 ^ 62 / 62 !)+( 100 ^ 63 / 63 !)+( 100 ^ 64 / 64 !)+( 100 ^ 65 / 65 !)+( 100 ^ 66 / 66 !)+( 100 ^ 67 / 67 !)+( 100 ^ 68 / 68 !)+( 100 ^ 69 / 69 !)+( 100 ^ 70 / 70 !)+( 100 ^ 71 / 71 !)+( 100 ^ 72 / 72 !)+( 100 ^ 73 / 73 !)+( 100 ^ 74 / 74 !)+( 100 ^ 75 / 75 !)+( 100 ^ 76 / 76 !)+( 100 ^ 77 / 77 !)+( 100 ^ 78 / 78 !)+( 100 ^ 79 / 79 !)+( 100 ^ 80 / 80 !)+( 100 ^ 81 / 81 !)+( 100 ^ 82 / 82 !)+( 100 ^ 83 / 83 !)+( 100 ^ 84 / 84 !)+( 100 ^ 85 / 85 !)+( 100 ^ 86 / 86 !)+( 100 ^ 87 / 87 !)+( 100 ^ 88 / 88 !)+( 100 ^ 89 / 89 !)+( 100 ^ 90 / 90 !)+( 100 ^ 91 / 91 !)+( 100 ^ 92 / 92 !)+( 100 ^ 93 / 93 !)+( 100 ^ 94 / 94 !)+( 100 ^ 95 / 95 !)+( 100 ^ 96 / 96 !)+( 100 ^ 97 / 97 !)+( 100 ^ 98 / 98 !)+( 100 ^ 99 / 99 !)+( 100 ^ 100 / 100 !)\n",
      "\n",
      "El resultado es:  1.0823336243691585e+42\n"
     ]
    }
   ],
   "source": [
    "x=int(input('Dele un valor a x: '))\n",
    "e= 1 + x\n",
    "print('e = 1 +',x,'+',end='')\n",
    "def factorial(n):\n",
    "    if n == 0:\n",
    "        return 1\n",
    "    else:\n",
    "        return n * factorial(n-1)\n",
    "for i in range(2,101):\n",
    "    e= e + ((x**i)/factorial(x))\n",
    "    if not i == 100:\n",
    "        print('(',x, '^' , i, '/', i, '!)', end='+')\n",
    "    else:\n",
    "        print('(',i, '^' , i, '/', i, '!)')\n",
    "print('\\nEl resultado es: ', e)\n"
   ]
  },
  {
   "cell_type": "markdown",
   "metadata": {},
   "source": [
    "29. Calcular la suma de todos los elementos de un vector, así como la media aritmética."
   ]
  },
  {
   "cell_type": "code",
   "execution_count": 49,
   "metadata": {},
   "outputs": [
    {
     "name": "stdout",
     "output_type": "stream",
     "text": [
      "Ingrese el componente 1 del vector: 5\n",
      "Ingrese el componente 2 del vector: 10\n",
      "Ingrese el componente 3 del vector: 15\n",
      "La suma de los componentes es: 30.0\n",
      "La media aritmética del vector es: 10.0\n"
     ]
    }
   ],
   "source": [
    "uno=float(input('Ingrese el componente 1 del vector: '))\n",
    "dos=float(input('Ingrese el componente 2 del vector: '))\n",
    "tres=float(input('Ingrese el componente 3 del vector: '))\n",
    "lista=[uno,dos,tres]\n",
    "listaans=[]\n",
    "for i in range(len(lista)):\n",
    "    listaans.append(lista[i])\n",
    "print('La suma de los componentes es:', sum(listaans))\n",
    "print('La media aritmética del vector es:', sum(listaans)/len(listaans))"
   ]
  },
  {
   "cell_type": "markdown",
   "metadata": {},
   "source": [
    "30. Multiplicar dos matrices."
   ]
  },
  {
   "cell_type": "code",
   "execution_count": 5,
   "metadata": {
    "scrolled": true
   },
   "outputs": [
    {
     "name": "stdout",
     "output_type": "stream",
     "text": [
      "Ingrese la cantidad de columnas de la matríz A: 3\n",
      "Ingrese la cantidad de filas de la matríz A: 3\n",
      "Ingrese la cantidad de columnas de la matríz B: 1\n",
      "Ingrese la cantidad de filas de la matríz B: 3\n",
      "Ingrese uno por uno los números de la matriz 1 horizontalmente: 1\n",
      "Ingrese uno por uno los números de la matriz 1 horizontalmente: 0\n",
      "Ingrese uno por uno los números de la matriz 1 horizontalmente: 2\n",
      "Ingrese uno por uno los números de la matriz 1 horizontalmente: 0\n",
      "Ingrese uno por uno los números de la matriz 1 horizontalmente: 2\n",
      "Ingrese uno por uno los números de la matriz 1 horizontalmente: 0\n",
      "Ingrese uno por uno los números de la matriz 1 horizontalmente: 0\n",
      "Ingrese uno por uno los números de la matriz 1 horizontalmente: 1\n",
      "Ingrese uno por uno los números de la matriz 1 horizontalmente: 3\n",
      "Ingrese uno por uno los números de la matriz 2 horizontalmente: 5\n",
      "Ingrese uno por uno los números de la matriz 2 horizontalmente: -1\n",
      "Ingrese uno por uno los números de la matriz 2 horizontalmente: 0\n",
      "[5]\n",
      "[-2]\n",
      "[-1]\n"
     ]
    }
   ],
   "source": [
    "ca=int(input('Ingrese la cantidad de columnas de la matríz A: '))\n",
    "fa=int(input('Ingrese la cantidad de filas de la matríz A: '))\n",
    "cb=int(input('Ingrese la cantidad de columnas de la matríz B: '))\n",
    "fb=int(input('Ingrese la cantidad de filas de la matríz B: '))\n",
    "if not ca==fb:\n",
    "    print('¡Imposible!')\n",
    "else:\n",
    "    matriza = [[0 for x in range(ca)] for y in range(fa)]\n",
    "    for x in range(ca):\n",
    "        for y in range(fa):\n",
    "            matriza[x][y]=int(input('Ingrese uno por uno los números de la matriz 1 horizontalmente: '))\n",
    "    matrizb = [[0 for w in range(cb)] for z in range(fb)]\n",
    "    for w in range(cb):\n",
    "        for z in range(fb):\n",
    "            matrizb[z][w]=int(input('Ingrese uno por uno los números de la matriz 2 horizontalmente: '))\n",
    "    resultado= [[0 for u in range(cb)] for t in range(fa)]\n",
    "    for i in range(fa):\n",
    "        for j in range(cb):\n",
    "            for k in range(fb):\n",
    "                resultado[i][j] += matriza[i][k] * matrizb[k][j]\n",
    "    for v in resultado:\n",
    "        print(v)\n",
    "            "
   ]
  },
  {
   "cell_type": "markdown",
   "metadata": {},
   "source": [
    "## Universidad Privada Boliviana"
   ]
  }
 ],
 "metadata": {
  "kernelspec": {
   "display_name": "Python 3",
   "language": "python",
   "name": "python3"
  },
  "language_info": {
   "codemirror_mode": {
    "name": "ipython",
    "version": 3
   },
   "file_extension": ".py",
   "mimetype": "text/x-python",
   "name": "python",
   "nbconvert_exporter": "python",
   "pygments_lexer": "ipython3",
   "version": "3.7.4"
  }
 },
 "nbformat": 4,
 "nbformat_minor": 2
}
